{
 "cells": [
  {
   "cell_type": "markdown",
   "id": "548604d9",
   "metadata": {},
   "source": [
    "The Integration of Lasso and HHT in TS Forecasting\n",
    "\n",
    "After HHT, we get\n",
    "* A set of Hilbert transformed signals from IMFs\n",
    "* Instantaneous frequency\n",
    "* Instantaneous amplitude\n",
    "\n",
    "which introduces sparsity, which means not all components carry useful predictive information but rather just noise-dominated and redundant\n",
    "\n",
    "Lasso (L1 penalty) enforces sparsity by shrinking many coefficients exactly to 0 => perfect for HHT, as don't want all IMFs, just relevant ones. so Lasso will filters out noise features "
   ]
  },
  {
   "cell_type": "markdown",
   "id": "671040c3",
   "metadata": {},
   "source": [
    "### Holt-Winter Triple Exponential smoothing forecasting\n",
    "\n",
    "https://www.solarwinds.com/blog/holt-winters-forecasting-simplified"
   ]
  },
  {
   "cell_type": "markdown",
   "id": "3d4a78bc",
   "metadata": {},
   "source": [
    "#### Pre-requisites: Exponential Smoothing (EMA)"
   ]
  },
  {
   "cell_type": "markdown",
   "id": "77eaead0",
   "metadata": {},
   "source": [
    "When forecasting, add an error bands to show confidence level for future forecast"
   ]
  },
  {
   "cell_type": "markdown",
   "id": "0335cca9",
   "metadata": {},
   "source": [
    "### Gray Forecasting"
   ]
  },
  {
   "cell_type": "markdown",
   "id": "86f372e2",
   "metadata": {},
   "source": [
    "### Fuzzy Logic"
   ]
  },
  {
   "cell_type": "markdown",
   "id": "a8d7b8d5",
   "metadata": {},
   "source": []
  }
 ],
 "metadata": {
  "language_info": {
   "name": "python"
  }
 },
 "nbformat": 4,
 "nbformat_minor": 5
}

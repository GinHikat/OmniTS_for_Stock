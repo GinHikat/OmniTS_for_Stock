{
 "cells": [
  {
   "cell_type": "markdown",
   "id": "548604d9",
   "metadata": {},
   "source": [
    "The Integration of Lasso and HHT in TS Forecasting\n",
    "\n",
    "After HHT, we get\n",
    "* A set of Hilbert transformed signals from IMFs\n",
    "* Instantaneous frequency\n",
    "* Instantaneous amplitude\n",
    "\n",
    "which introduces sparsity, which means not all components carry useful predictive information but rather just noise-dominated and redundant\n",
    "\n",
    "Lasso (L1 penalty) enforces sparsity by shrinking many coefficients exactly to 0 => perfect for HHT, as don't want all IMFs, just relevant ones. so Lasso will filters out noise features "
   ]
  },
  {
   "cell_type": "markdown",
   "id": "84dff4d8",
   "metadata": {},
   "source": []
  }
 ],
 "metadata": {
  "language_info": {
   "name": "python"
  }
 },
 "nbformat": 4,
 "nbformat_minor": 5
}

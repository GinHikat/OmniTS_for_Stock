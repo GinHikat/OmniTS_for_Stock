{
 "cells": [
  {
   "cell_type": "markdown",
   "id": "91c6b86b",
   "metadata": {},
   "source": [
    "## Special: Clustering and Unsupervised"
   ]
  },
  {
   "cell_type": "markdown",
   "id": "921b0217",
   "metadata": {},
   "source": [
    "### Distance-based"
   ]
  },
  {
   "cell_type": "markdown",
   "id": "48bb501d",
   "metadata": {},
   "source": [
    "#### DTW"
   ]
  },
  {
   "cell_type": "markdown",
   "id": "e52c4b28",
   "metadata": {},
   "source": [
    "#### Proximity Forest"
   ]
  },
  {
   "cell_type": "markdown",
   "id": "3feb4c07",
   "metadata": {},
   "source": [
    "### Symbol Approaches"
   ]
  },
  {
   "cell_type": "markdown",
   "id": "b9696933",
   "metadata": {},
   "source": [
    "#### CBOSS"
   ]
  },
  {
   "cell_type": "markdown",
   "id": "057b7c30",
   "metadata": {},
   "source": [
    "#### SAX (-VSM)"
   ]
  },
  {
   "cell_type": "markdown",
   "id": "1a55390a",
   "metadata": {},
   "source": [
    "### PAA"
   ]
  },
  {
   "cell_type": "markdown",
   "id": "ccfc284b",
   "metadata": {},
   "source": [
    "### Domain Transform"
   ]
  },
  {
   "cell_type": "markdown",
   "id": "84f456e0",
   "metadata": {},
   "source": [
    "### RISE"
   ]
  },
  {
   "cell_type": "markdown",
   "id": "ecbf9a49",
   "metadata": {},
   "source": [
    "### STC (Shapelet Transform Classifier)"
   ]
  },
  {
   "cell_type": "markdown",
   "id": "7bb90c79",
   "metadata": {},
   "source": [
    "### MrSEQL"
   ]
  },
  {
   "cell_type": "markdown",
   "id": "4286cb0a",
   "metadata": {},
   "source": []
  }
 ],
 "metadata": {
  "language_info": {
   "name": "python"
  }
 },
 "nbformat": 4,
 "nbformat_minor": 5
}

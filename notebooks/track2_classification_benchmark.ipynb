{
 "cells": [
  {
   "cell_type": "markdown",
   "id": "41960a29",
   "metadata": {},
   "source": [
    "# Time Series Classification & Clustering Benchmark"
   ]
  },
  {
   "cell_type": "code",
   "execution_count": null,
   "id": "e2670a3c",
   "metadata": {},
   "outputs": [],
   "source": [
    "import pandas as pd\n",
    "import numpy as np \n",
    "import seaborn as sns\n",
    "import matplotlib.pyplot as plt\n",
    "import matplotlib.dates as mdates\n",
    "\n",
    "#setup system path for modular import\n",
    "import sys, os\n",
    "project_root = os.path.abspath(os.path.join(os.getcwd(), \"..\"))\n",
    "if project_root not in sys.path:\n",
    "    sys.path.append(project_root)\n",
    "\n",
    "#Processing and tests\n",
    "from scipy import stats\n",
    "from sklearn.preprocessing import PowerTransformer\n",
    "from sklearn.preprocessing import StandardScaler\n",
    "\n",
    "#Fetching stock data with the given name\n",
    "import yfinance as yf\n",
    "\n",
    "#for technical analysis\n",
    "import ta\n",
    "import mplfinance as mpf\n",
    "import plotly.graph_objects as go\n",
    "\n",
    "#Time series decomposition and forecasting prep\n",
    "from statsmodels.graphics.tsaplots import plot_acf, plot_pacf\n",
    "from statsmodels.tsa.stattools import adfuller, acf, pacf, kpss\n",
    "\n",
    "#Forecasting models\n",
    "from statsmodels.tsa.holtwinters import SimpleExpSmoothing, Holt, ExponentialSmoothing # Holt-Winter\n",
    "\n",
    "#Evaluation\n",
    "from sklearn.metrics import mean_squared_error, mean_absolute_error, r2_score"
   ]
  },
  {
   "cell_type": "code",
   "execution_count": null,
   "id": "6e6975ad",
   "metadata": {},
   "outputs": [],
   "source": [
    "from src.utils.processing.denoising import Dimensional_Denoise\n",
    "from src.utils.processing.extract_stock_index import extract_index\n",
    "from src.utils.processing.feature_extraction import Feature"
   ]
  },
  {
   "cell_type": "markdown",
   "id": "91c6b86b",
   "metadata": {},
   "source": [
    "## Special: Clustering and Unsupervised"
   ]
  },
  {
   "cell_type": "markdown",
   "id": "921b0217",
   "metadata": {},
   "source": [
    "### Distance-based"
   ]
  },
  {
   "cell_type": "markdown",
   "id": "48bb501d",
   "metadata": {},
   "source": [
    "#### DTW"
   ]
  },
  {
   "cell_type": "markdown",
   "id": "e52c4b28",
   "metadata": {},
   "source": [
    "#### Proximity Forest"
   ]
  },
  {
   "cell_type": "markdown",
   "id": "3feb4c07",
   "metadata": {},
   "source": [
    "### Symbol Approaches"
   ]
  },
  {
   "cell_type": "markdown",
   "id": "b9696933",
   "metadata": {},
   "source": [
    "#### CBOSS"
   ]
  },
  {
   "cell_type": "markdown",
   "id": "057b7c30",
   "metadata": {},
   "source": [
    "#### SAX (-VSM)"
   ]
  },
  {
   "cell_type": "markdown",
   "id": "1a55390a",
   "metadata": {},
   "source": [
    "### PAA"
   ]
  },
  {
   "cell_type": "markdown",
   "id": "ccfc284b",
   "metadata": {},
   "source": [
    "### Domain Transform"
   ]
  },
  {
   "cell_type": "markdown",
   "id": "84f456e0",
   "metadata": {},
   "source": [
    "### RISE"
   ]
  },
  {
   "cell_type": "markdown",
   "id": "ecbf9a49",
   "metadata": {},
   "source": [
    "### STC (Shapelet Transform Classifier)"
   ]
  },
  {
   "cell_type": "markdown",
   "id": "7bb90c79",
   "metadata": {},
   "source": [
    "### MrSEQL"
   ]
  },
  {
   "cell_type": "markdown",
   "id": "4286cb0a",
   "metadata": {},
   "source": []
  }
 ],
 "metadata": {
  "language_info": {
   "name": "python"
  }
 },
 "nbformat": 4,
 "nbformat_minor": 5
}

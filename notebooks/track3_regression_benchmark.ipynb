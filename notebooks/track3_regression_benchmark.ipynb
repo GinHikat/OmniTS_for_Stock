{
 "cells": [
  {
   "cell_type": "markdown",
   "id": "0f9f68e1",
   "metadata": {},
   "source": [
    "## Special Preprocessing"
   ]
  },
  {
   "cell_type": "markdown",
   "id": "3bf5c359",
   "metadata": {},
   "source": [
    "### Mini(ROCKET)"
   ]
  },
  {
   "cell_type": "markdown",
   "id": "bc818ef9",
   "metadata": {},
   "source": [
    "#### Pre-requisites: The Convolution integration Recurrent Network"
   ]
  },
  {
   "cell_type": "markdown",
   "id": "95479e79",
   "metadata": {},
   "source": []
  },
  {
   "cell_type": "markdown",
   "id": "8d54f6d9",
   "metadata": {},
   "source": [
    "## Deep Learning approach"
   ]
  },
  {
   "cell_type": "markdown",
   "id": "8485b1b3",
   "metadata": {},
   "source": [
    "#### RNN/ LSTM/ GRU/ Bi-Directional"
   ]
  },
  {
   "cell_type": "markdown",
   "id": "55df31f0",
   "metadata": {},
   "source": [
    "### RVFL (DE)"
   ]
  },
  {
   "cell_type": "markdown",
   "id": "9d6a423a",
   "metadata": {},
   "source": [
    "### ResNet"
   ]
  },
  {
   "cell_type": "markdown",
   "id": "ba3c4892",
   "metadata": {},
   "source": [
    "### FCN"
   ]
  },
  {
   "cell_type": "markdown",
   "id": "0f481d1b",
   "metadata": {},
   "source": [
    "## Ensembles Approach"
   ]
  },
  {
   "cell_type": "markdown",
   "id": "201ddd9d",
   "metadata": {},
   "source": [
    "#### Proximity Forest"
   ]
  },
  {
   "cell_type": "markdown",
   "id": "f1971d09",
   "metadata": {},
   "source": [
    "#### Time Series Forest"
   ]
  },
  {
   "cell_type": "markdown",
   "id": "82197325",
   "metadata": {},
   "source": [
    "MUSE - WEASEL"
   ]
  },
  {
   "cell_type": "markdown",
   "id": "015d4769",
   "metadata": {},
   "source": [
    "#### HIVE-COTE"
   ]
  },
  {
   "cell_type": "markdown",
   "id": "f17c7034",
   "metadata": {},
   "source": [
    "### TDE"
   ]
  },
  {
   "cell_type": "markdown",
   "id": "b1f2d122",
   "metadata": {},
   "source": [
    "### CIF (Canonical Interval Forest)"
   ]
  },
  {
   "cell_type": "markdown",
   "id": "03515354",
   "metadata": {},
   "source": [
    "### CAWPE (Cross-Validation Accuracy Weighted Probabilistic Ensemble)"
   ]
  },
  {
   "cell_type": "markdown",
   "id": "357641be",
   "metadata": {},
   "source": [
    "### TS-CHIEF"
   ]
  },
  {
   "cell_type": "markdown",
   "id": "3a236717",
   "metadata": {},
   "source": []
  }
 ],
 "metadata": {
  "language_info": {
   "name": "python"
  }
 },
 "nbformat": 4,
 "nbformat_minor": 5
}

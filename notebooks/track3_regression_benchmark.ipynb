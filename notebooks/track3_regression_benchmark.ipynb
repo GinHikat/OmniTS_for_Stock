{
 "cells": [
  {
   "cell_type": "markdown",
   "id": "0bf0ee9d",
   "metadata": {},
   "source": [
    "# <a id='toc1_'></a>[Time Series Regression Benchmark](#toc0_)"
   ]
  },
  {
   "cell_type": "markdown",
   "id": "72995912",
   "metadata": {},
   "source": [
    "**Table of contents**<a id='toc0_'></a>    \n",
    "- [Time Series Regression Benchmark](#toc1_)    \n",
    "  - [Special Preprocessing](#toc1_1_)    \n",
    "    - [Mini(ROCKET)](#toc1_1_1_)    \n",
    "      - [Pre-requisites: The Convolution integration Recurrent Network](#toc1_1_1_1_)    \n",
    "  - [Deep Learning approach](#toc1_2_)    \n",
    "      - [RNN/ LSTM/ GRU/ Bi-Directional](#toc1_2_1_1_)    \n",
    "    - [RVFL (DE)](#toc1_2_2_)    \n",
    "    - [ResNet](#toc1_2_3_)    \n",
    "    - [FCN](#toc1_2_4_)    \n",
    "  - [Ensembles Approach](#toc1_3_)    \n",
    "      - [Proximity Forest](#toc1_3_1_1_)    \n",
    "      - [Time Series Forest](#toc1_3_1_2_)    \n",
    "      - [HIVE-COTE](#toc1_3_1_3_)    \n",
    "    - [TDE](#toc1_3_2_)    \n",
    "    - [CIF (Canonical Interval Forest)](#toc1_3_3_)    \n",
    "    - [CAWPE (Cross-Validation Accuracy Weighted Probabilistic Ensemble)](#toc1_3_4_)    \n",
    "    - [TS-CHIEF](#toc1_3_5_)    \n",
    "\n",
    "<!-- vscode-jupyter-toc-config\n",
    "\tnumbering=false\n",
    "\tanchor=true\n",
    "\tflat=false\n",
    "\tminLevel=1\n",
    "\tmaxLevel=6\n",
    "\t/vscode-jupyter-toc-config -->\n",
    "<!-- THIS CELL WILL BE REPLACED ON TOC UPDATE. DO NOT WRITE YOUR TEXT IN THIS CELL -->"
   ]
  },
  {
   "cell_type": "code",
   "execution_count": null,
   "id": "9ffdc34f",
   "metadata": {},
   "outputs": [],
   "source": [
    "import pandas as pd\n",
    "import numpy as np \n",
    "import seaborn as sns\n",
    "import matplotlib.pyplot as plt\n",
    "import matplotlib.dates as mdates\n",
    "\n",
    "#setup system path for modular import\n",
    "import sys, os\n",
    "project_root = os.path.abspath(os.path.join(os.getcwd(), \"..\"))\n",
    "if project_root not in sys.path:\n",
    "    sys.path.append(project_root)\n",
    "\n",
    "#Processing and tests\n",
    "from scipy import stats\n",
    "from sklearn.preprocessing import PowerTransformer\n",
    "from sklearn.preprocessing import StandardScaler\n",
    "\n",
    "#for technical analysis\n",
    "import ta\n",
    "import mplfinance as mpf\n",
    "import plotly.graph_objects as go\n",
    "\n",
    "#Evaluation\n",
    "from sklearn.metrics import mean_squared_error, mean_absolute_error, r2_score"
   ]
  },
  {
   "cell_type": "code",
   "execution_count": null,
   "id": "e55517f3",
   "metadata": {},
   "outputs": [],
   "source": [
    "from src.utils.processing.denoising import Dimensional_Denoise\n",
    "from src.utils.processing.extract_stock_index import extract_index\n",
    "from src.utils.processing.feature_extraction import Feature"
   ]
  },
  {
   "cell_type": "markdown",
   "id": "0f9f68e1",
   "metadata": {},
   "source": [
    "## <a id='toc1_1_'></a>[Special Preprocessing](#toc0_)"
   ]
  },
  {
   "cell_type": "markdown",
   "id": "3bf5c359",
   "metadata": {},
   "source": [
    "### <a id='toc1_1_1_'></a>[Mini(ROCKET)](#toc0_)"
   ]
  },
  {
   "cell_type": "markdown",
   "id": "95479e79",
   "metadata": {},
   "source": [
    "ROCKET applies global max pooling and PPV (proportion of positive values) pooling to the resulting convolution output to produce 2 features per kernel per input time series, for a total of 20,000 features per input time series. These kernels are random in terms of their length, weights, bias, dilation and padding"
   ]
  },
  {
   "cell_type": "markdown",
   "id": "8d54f6d9",
   "metadata": {},
   "source": [
    "## <a id='toc1_2_'></a>[Deep Learning approach](#toc0_)"
   ]
  },
  {
   "cell_type": "markdown",
   "id": "8485b1b3",
   "metadata": {},
   "source": [
    "#### <a id='toc1_2_1_1_'></a>[RNN/ LSTM/ GRU/ Bi-Directional](#toc0_)"
   ]
  },
  {
   "cell_type": "markdown",
   "id": "55df31f0",
   "metadata": {},
   "source": [
    "### <a id='toc1_2_2_'></a>[RVFL (DE)](#toc0_)"
   ]
  },
  {
   "cell_type": "markdown",
   "id": "9d6a423a",
   "metadata": {},
   "source": [
    "### <a id='toc1_2_3_'></a>[ResNet](#toc0_)"
   ]
  },
  {
   "cell_type": "markdown",
   "id": "ba3c4892",
   "metadata": {},
   "source": [
    "### <a id='toc1_2_4_'></a>[FCN](#toc0_)"
   ]
  },
  {
   "cell_type": "markdown",
   "id": "0f481d1b",
   "metadata": {},
   "source": [
    "## <a id='toc1_3_'></a>[Ensembles Approach](#toc0_)"
   ]
  },
  {
   "cell_type": "markdown",
   "id": "201ddd9d",
   "metadata": {},
   "source": [
    "#### <a id='toc1_3_1_1_'></a>[Proximity Forest](#toc0_)"
   ]
  },
  {
   "cell_type": "markdown",
   "id": "f1971d09",
   "metadata": {},
   "source": [
    "#### <a id='toc1_3_1_2_'></a>[Time Series Forest](#toc0_)"
   ]
  },
  {
   "cell_type": "markdown",
   "id": "ae0b93e5",
   "metadata": {},
   "source": [
    "#### Catch22"
   ]
  },
  {
   "cell_type": "markdown",
   "id": "82197325",
   "metadata": {},
   "source": [
    "MUSE - WEASEL"
   ]
  },
  {
   "cell_type": "markdown",
   "id": "015d4769",
   "metadata": {},
   "source": [
    "#### <a id='toc1_3_1_3_'></a>[HIVE-COTE](#toc0_)"
   ]
  },
  {
   "cell_type": "markdown",
   "id": "8f91fd85",
   "metadata": {},
   "source": [
    "HIVE-COTE is an ensemble of other methods including BOSS and TSF. 2 recent variants of HIVE-COTE, namely HIVE-COTE/ TDE (using TDE instead of BOSS) and HIVE-COTE/CIF (using CIF instead of TSF) have been shown to be significantly more accurate than HIVE-COTE, or any other existing method for TSC"
   ]
  },
  {
   "cell_type": "markdown",
   "id": "f17c7034",
   "metadata": {},
   "source": [
    "### <a id='toc1_3_2_'></a>[Temporal Dictionary Ensemble (TDE)](#toc0_)"
   ]
  },
  {
   "cell_type": "markdown",
   "id": "b1f2d122",
   "metadata": {},
   "source": [
    "### <a id='toc1_3_3_'></a>[CIF (Canonical Interval Forest)](#toc0_)"
   ]
  },
  {
   "cell_type": "markdown",
   "id": "d7c091c8",
   "metadata": {},
   "source": [
    "The Canonical Interval Forest is a recent method which adapts the Time Series Forest (TSF) to use catch22 features and is significantly more accurate then either catch22 or TSF"
   ]
  },
  {
   "cell_type": "markdown",
   "id": "03515354",
   "metadata": {},
   "source": [
    "### <a id='toc1_3_4_'></a>[CAWPE (Cross-Validation Accuracy Weighted Probabilistic Ensemble)](#toc0_)"
   ]
  },
  {
   "cell_type": "markdown",
   "id": "357641be",
   "metadata": {},
   "source": [
    "### <a id='toc1_3_5_'></a>[TS-CHIEF](#toc0_)"
   ]
  },
  {
   "cell_type": "markdown",
   "id": "3a236717",
   "metadata": {},
   "source": []
  }
 ],
 "metadata": {
  "language_info": {
   "name": "python"
  }
 },
 "nbformat": 4,
 "nbformat_minor": 5
}
